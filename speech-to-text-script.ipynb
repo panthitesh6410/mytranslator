{
 "cells": [
  {
   "cell_type": "code",
   "execution_count": null,
   "metadata": {},
   "outputs": [],
   "source": [
    "pip install SpeechRecognition"
   ]
  },
  {
   "cell_type": "code",
   "execution_count": null,
   "metadata": {},
   "outputs": [],
   "source": [
    "# pip install --upgrade pip"
   ]
  },
  {
   "cell_type": "code",
   "execution_count": null,
   "metadata": {},
   "outputs": [],
   "source": [
    "pip install PyAudio-0.2.11-cp37-cp37m-win_amd64.whl"
   ]
  },
  {
   "cell_type": "code",
   "execution_count": 7,
   "metadata": {},
   "outputs": [
    {
     "name": "stdout",
     "output_type": "stream",
     "text": [
      "Collecting gtts\n",
      "  Using cached gTTS-2.2.2-py3-none-any.whl (25 kB)\n",
      "Requirement already satisfied: six in c:\\users\\gwc\\anaconda3\\lib\\site-packages (from gtts) (1.12.0)\n",
      "Requirement already satisfied: click in c:\\users\\gwc\\anaconda3\\lib\\site-packages (from gtts) (7.0)\n",
      "Requirement already satisfied: requests in c:\\users\\gwc\\anaconda3\\lib\\site-packages (from gtts) (2.22.0)\n",
      "Requirement already satisfied: chardet<3.1.0,>=3.0.2 in c:\\users\\gwc\\anaconda3\\lib\\site-packages (from requests->gtts) (3.0.4)\n",
      "Requirement already satisfied: urllib3!=1.25.0,!=1.25.1,<1.26,>=1.21.1 in c:\\users\\gwc\\anaconda3\\lib\\site-packages (from requests->gtts) (1.24.2)\n",
      "Requirement already satisfied: idna<2.9,>=2.5 in c:\\users\\gwc\\anaconda3\\lib\\site-packages (from requests->gtts) (2.8)\n",
      "Requirement already satisfied: certifi>=2017.4.17 in c:\\users\\gwc\\anaconda3\\lib\\site-packages (from requests->gtts) (2019.6.16)\n",
      "Installing collected packages: gtts\n",
      "Successfully installed gtts-2.2.2\n",
      "Note: you may need to restart the kernel to use updated packages.\n"
     ]
    }
   ],
   "source": [
    "pip install gtts"
   ]
  },
  {
   "cell_type": "code",
   "execution_count": 9,
   "metadata": {},
   "outputs": [
    {
     "name": "stdout",
     "output_type": "stream",
     "text": [
      "Collecting playsound\n",
      "  Using cached playsound-1.2.2-py2.py3-none-any.whl (6.0 kB)\n",
      "Installing collected packages: playsound\n",
      "Successfully installed playsound-1.2.2\n",
      "Note: you may need to restart the kernel to use updated packages.\n"
     ]
    }
   ],
   "source": [
    "pip install playsound"
   ]
  },
  {
   "cell_type": "code",
   "execution_count": null,
   "metadata": {},
   "outputs": [
    {
     "name": "stdout",
     "output_type": "stream",
     "text": [
      "Say Something\n"
     ]
    }
   ],
   "source": [
    "import speech_recognition as sr\n",
    "import googletrans\n",
    "from googletrans import Translator\n",
    "from gtts import gTTS\n",
    "import gtts\n",
    "from playsound import playsound\n",
    "import os\n",
    "import random\n",
    "import string\n",
    "\n",
    "r = sr.Recognizer()\n",
    "\n",
    "with sr.Microphone() as source:\n",
    "    print(\"Say Something\")\n",
    "    audio = r.listen(source)\n",
    "    print(\"Time Over, Thanks\")\n",
    "try:\n",
    "    text = r.recognize_google(audio, language = \"hi\")\n",
    "    print(\"text - \", text);\n",
    "except:\n",
    "    pass;\n",
    "\n",
    "with sr.Microphone() as source:\n",
    "    print(\"Say Something\")\n",
    "    audio = r.listen(source)\n",
    "    print(\"Time Over, Thanks\")\n",
    "try:\n",
    "    text = r.recognize_google(audio, language = \"hi\")\n",
    "    print(\"text - \", text);\n",
    "except:\n",
    "    pass;\n",
    "\n",
    "translator = Translator()\n",
    "result = translator.translate(text, src=\"hi\", dest=\"en\")\n",
    "print(result.text)\n",
    "\n",
    "try:\n",
    "    tts = gtts.gTTS(result.text)\n",
    "    random_str = ''.join(random.choices(string.ascii_uppercase+string.digits, k=10))    # generating random string -\n",
    "    tts.save(\"audio_files/\"+str(random_str)+\".mp3\")\n",
    "    playsound(\"audio_files/\"+str(random_str)+\".mp3\")\n",
    "except Exception as e:\n",
    "    print(\"e = \", e)"
   ]
  },
  {
   "cell_type": "code",
   "execution_count": 2,
   "metadata": {},
   "outputs": [],
   "source": []
  },
  {
   "cell_type": "code",
   "execution_count": 3,
   "metadata": {},
   "outputs": [
    {
     "name": "stdout",
     "output_type": "stream",
     "text": [
      "Say Something\n",
      "Time Over, Thanks\n",
      "text -  ट्रांसलेट ऑफ हेलो मेरा नाम भुवन है\n"
     ]
    }
   ],
   "source": []
  },
  {
   "cell_type": "code",
   "execution_count": 4,
   "metadata": {},
   "outputs": [
    {
     "name": "stdout",
     "output_type": "stream",
     "text": [
      "Translate of Hello my name is Bhuvan\n"
     ]
    }
   ],
   "source": []
  },
  {
   "cell_type": "code",
   "execution_count": 5,
   "metadata": {},
   "outputs": [],
   "source": []
  },
  {
   "cell_type": "code",
   "execution_count": null,
   "metadata": {},
   "outputs": [],
   "source": []
  }
 ],
 "metadata": {
  "kernelspec": {
   "display_name": "Python 3",
   "language": "python",
   "name": "python3"
  },
  "language_info": {
   "codemirror_mode": {
    "name": "ipython",
    "version": 3
   },
   "file_extension": ".py",
   "mimetype": "text/x-python",
   "name": "python",
   "nbconvert_exporter": "python",
   "pygments_lexer": "ipython3",
   "version": "3.7.3"
  }
 },
 "nbformat": 4,
 "nbformat_minor": 2
}
